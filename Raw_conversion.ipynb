{
 "cells": [
  {
   "cell_type": "markdown",
   "id": "ff4a5ad3-58bf-4d1a-a4ee-6d6dd16dd946",
   "metadata": {},
   "source": [
    "# Converting the Raw dataset to the comma seperated file for model building"
   ]
  },
  {
   "cell_type": "code",
   "execution_count": 1,
   "id": "1f56d09f-59a7-4b0f-bdcc-d9d62a3bf2fa",
   "metadata": {},
   "outputs": [
    {
     "name": "stdout",
     "output_type": "stream",
     "text": [
      "Conversion complete. Output saved as Smarthome_rawdata.csv\n"
     ]
    }
   ],
   "source": [
    "# import csv\n",
    "\n",
    "# txt_file = 'Smarthome.rawdata.txt'\n",
    "# csv_file = 'Smarthome.rawdata.csv'\n",
    "\n",
    "# with open(txt_file, 'r') as file:\n",
    "#     lines = file.readlines()\n",
    "\n",
    "# data = []\n",
    "# for line in lines:\n",
    "#     # Split values using spaces as the delimiter\n",
    "#     values = line.strip().split()\n",
    "#     data.append(values)\n",
    "\n",
    "# with open(csv_file, 'w', newline='') as file:\n",
    "#     writer = csv.writer(file)\n",
    "#     writer.writerows(data)\n",
    "\n",
    "# print(\"Conversion complete. Output saved as\", csv_file)\n"
   ]
  },
  {
   "cell_type": "code",
   "execution_count": 16,
   "id": "07af6f39-58b2-400c-aa49-6a042440c08d",
   "metadata": {},
   "outputs": [],
   "source": [
    "import pandas as pd"
   ]
  },
  {
   "cell_type": "code",
   "execution_count": 17,
   "id": "31cf8d68-0543-4dbb-85a2-561aee36421c",
   "metadata": {},
   "outputs": [
    {
     "data": {
      "text/html": [
       "<div>\n",
       "<style scoped>\n",
       "    .dataframe tbody tr th:only-of-type {\n",
       "        vertical-align: middle;\n",
       "    }\n",
       "\n",
       "    .dataframe tbody tr th {\n",
       "        vertical-align: top;\n",
       "    }\n",
       "\n",
       "    .dataframe thead th {\n",
       "        text-align: right;\n",
       "    }\n",
       "</style>\n",
       "<table border=\"1\" class=\"dataframe\">\n",
       "  <thead>\n",
       "    <tr style=\"text-align: right;\">\n",
       "      <th></th>\n",
       "      <th>Date</th>\n",
       "      <th>Time</th>\n",
       "      <th>Sensor</th>\n",
       "      <th>Room Name</th>\n",
       "      <th>Room Description</th>\n",
       "      <th>Device Status</th>\n",
       "      <th>Sensor-Message</th>\n",
       "    </tr>\n",
       "  </thead>\n",
       "  <tbody>\n",
       "    <tr>\n",
       "      <th>0</th>\n",
       "      <td>6/15/2011</td>\n",
       "      <td>17:04.3</td>\n",
       "      <td>LS013</td>\n",
       "      <td>Ignore</td>\n",
       "      <td>Ignore</td>\n",
       "      <td>1</td>\n",
       "      <td>Control4-LightSensor</td>\n",
       "    </tr>\n",
       "    <tr>\n",
       "      <th>1</th>\n",
       "      <td>6/15/2011</td>\n",
       "      <td>24:14.7</td>\n",
       "      <td>LS001</td>\n",
       "      <td>Ignore</td>\n",
       "      <td>Ignore</td>\n",
       "      <td>3</td>\n",
       "      <td>Control4-LightSensor</td>\n",
       "    </tr>\n",
       "    <tr>\n",
       "      <th>2</th>\n",
       "      <td>6/15/2011</td>\n",
       "      <td>34:14.7</td>\n",
       "      <td>LS001</td>\n",
       "      <td>Ignore</td>\n",
       "      <td>Ignore</td>\n",
       "      <td>4</td>\n",
       "      <td>Control4-LightSensor</td>\n",
       "    </tr>\n",
       "    <tr>\n",
       "      <th>3</th>\n",
       "      <td>6/15/2011</td>\n",
       "      <td>37:04.2</td>\n",
       "      <td>LS013</td>\n",
       "      <td>Ignore</td>\n",
       "      <td>Ignore</td>\n",
       "      <td>2</td>\n",
       "      <td>Control4-LightSensor</td>\n",
       "    </tr>\n",
       "    <tr>\n",
       "      <th>4</th>\n",
       "      <td>6/15/2011</td>\n",
       "      <td>50:38.2</td>\n",
       "      <td>LS012</td>\n",
       "      <td>Ignore</td>\n",
       "      <td>Ignore</td>\n",
       "      <td>42</td>\n",
       "      <td>Control4-LightSensor</td>\n",
       "    </tr>\n",
       "  </tbody>\n",
       "</table>\n",
       "</div>"
      ],
      "text/plain": [
       "        Date     Time Sensor Room Name Room Description Device Status  \\\n",
       "0  6/15/2011  17:04.3  LS013    Ignore           Ignore             1   \n",
       "1  6/15/2011  24:14.7  LS001    Ignore           Ignore             3   \n",
       "2  6/15/2011  34:14.7  LS001    Ignore           Ignore             4   \n",
       "3  6/15/2011  37:04.2  LS013    Ignore           Ignore             2   \n",
       "4  6/15/2011  50:38.2  LS012    Ignore           Ignore            42   \n",
       "\n",
       "         Sensor-Message  \n",
       "0  Control4-LightSensor  \n",
       "1  Control4-LightSensor  \n",
       "2  Control4-LightSensor  \n",
       "3  Control4-LightSensor  \n",
       "4  Control4-LightSensor  "
      ]
     },
     "execution_count": 17,
     "metadata": {},
     "output_type": "execute_result"
    }
   ],
   "source": [
    "path = \"Smarthome.rawdata.csv\"\n",
    "df = pd.read_csv(path)\n",
    "df.head()"
   ]
  },
  {
   "cell_type": "code",
   "execution_count": 18,
   "id": "23f6cf95-6adb-4a0f-a163-04725d3ef05b",
   "metadata": {},
   "outputs": [
    {
     "data": {
      "text/plain": [
       "Index(['Date', 'Time', 'Sensor', 'Room Name', 'Room Description',\n",
       "       'Device Status', 'Sensor-Message'],\n",
       "      dtype='object')"
      ]
     },
     "execution_count": 18,
     "metadata": {},
     "output_type": "execute_result"
    }
   ],
   "source": [
    "df.columns"
   ]
  },
  {
   "cell_type": "code",
   "execution_count": 19,
   "id": "170291fb-e746-43e8-bcfb-d6fb81c51592",
   "metadata": {},
   "outputs": [
    {
     "data": {
      "text/plain": [
       "<bound method DataFrame.count of               Date     Time Sensor Room Name Room Description Device Status  \\\n",
       "0        6/15/2011  17:04.3  LS013    Ignore           Ignore             1   \n",
       "1        6/15/2011  24:14.7  LS001    Ignore           Ignore             3   \n",
       "2        6/15/2011  34:14.7  LS001    Ignore           Ignore             4   \n",
       "3        6/15/2011  37:04.2  LS013    Ignore           Ignore             2   \n",
       "4        6/15/2011  50:38.2  LS012    Ignore           Ignore            42   \n",
       "...            ...      ...    ...       ...              ...           ...   \n",
       "1048570  12/6/2011  24:00.6   M003   Kitchen          Kitchen            ON   \n",
       "1048571  12/6/2011  24:06.6   M003   Kitchen          Kitchen           OFF   \n",
       "1048572  12/6/2011  24:07.3   M003   Kitchen          Kitchen            ON   \n",
       "1048573  12/6/2011  24:10.9   M003   Kitchen          Kitchen           OFF   \n",
       "1048574  12/6/2011  24:12.2   M003   Kitchen          Kitchen            ON   \n",
       "\n",
       "               Sensor-Message  \n",
       "0        Control4-LightSensor  \n",
       "1        Control4-LightSensor  \n",
       "2        Control4-LightSensor  \n",
       "3        Control4-LightSensor  \n",
       "4        Control4-LightSensor  \n",
       "...                       ...  \n",
       "1048570       Control4-Motion  \n",
       "1048571       Control4-Motion  \n",
       "1048572       Control4-Motion  \n",
       "1048573       Control4-Motion  \n",
       "1048574       Control4-Motion  \n",
       "\n",
       "[1048575 rows x 7 columns]>"
      ]
     },
     "execution_count": 19,
     "metadata": {},
     "output_type": "execute_result"
    }
   ],
   "source": [
    "df.count"
   ]
  },
  {
   "cell_type": "code",
   "execution_count": 20,
   "id": "2180a988-89a8-43dd-bd3c-2bca872b6454",
   "metadata": {},
   "outputs": [
    {
     "data": {
      "text/plain": [
       "Date                object\n",
       "Time                object\n",
       "Sensor              object\n",
       "Room Name           object\n",
       "Room Description    object\n",
       "Device Status       object\n",
       "Sensor-Message      object\n",
       "dtype: object"
      ]
     },
     "execution_count": 20,
     "metadata": {},
     "output_type": "execute_result"
    }
   ],
   "source": [
    "# Check the data types of variables\n",
    "df.dtypes"
   ]
  },
  {
   "cell_type": "markdown",
   "id": "991457e4-c74f-46ad-9be6-a9a86957d8a0",
   "metadata": {},
   "source": [
    "# Dropping the duplicate values"
   ]
  },
  {
   "cell_type": "code",
   "execution_count": 21,
   "id": "d587a69e-5233-4f6e-93cd-165fbdb4f773",
   "metadata": {},
   "outputs": [],
   "source": [
    "# Drop duplicates\n",
    "df = df.drop_duplicates()\n"
   ]
  },
  {
   "cell_type": "code",
   "execution_count": 22,
   "id": "8e2d77ed-a434-49d9-b99c-bfc03a5b633f",
   "metadata": {},
   "outputs": [
    {
     "name": "stdout",
     "output_type": "stream",
     "text": [
      "Date                0\n",
      "Time                0\n",
      "Sensor              0\n",
      "Room Name           0\n",
      "Room Description    0\n",
      "Device Status       0\n",
      "Sensor-Message      0\n",
      "dtype: int64\n"
     ]
    }
   ],
   "source": [
    "\n",
    "# Check for missing values\n",
    "print(df.isnull().sum())"
   ]
  },
  {
   "cell_type": "code",
   "execution_count": 23,
   "id": "f47da2f1-3cd2-44e4-b126-aa27d50bda3e",
   "metadata": {},
   "outputs": [
    {
     "data": {
      "text/html": [
       "<div>\n",
       "<style scoped>\n",
       "    .dataframe tbody tr th:only-of-type {\n",
       "        vertical-align: middle;\n",
       "    }\n",
       "\n",
       "    .dataframe tbody tr th {\n",
       "        vertical-align: top;\n",
       "    }\n",
       "\n",
       "    .dataframe thead th {\n",
       "        text-align: right;\n",
       "    }\n",
       "</style>\n",
       "<table border=\"1\" class=\"dataframe\">\n",
       "  <thead>\n",
       "    <tr style=\"text-align: right;\">\n",
       "      <th></th>\n",
       "      <th>Date</th>\n",
       "      <th>Time</th>\n",
       "      <th>Sensor</th>\n",
       "      <th>Room Name</th>\n",
       "      <th>Room Description</th>\n",
       "      <th>Device Status</th>\n",
       "      <th>Sensor-Message</th>\n",
       "    </tr>\n",
       "  </thead>\n",
       "  <tbody>\n",
       "    <tr>\n",
       "      <th>count</th>\n",
       "      <td>1045674</td>\n",
       "      <td>1045674</td>\n",
       "      <td>1045674</td>\n",
       "      <td>1045674</td>\n",
       "      <td>1045674</td>\n",
       "      <td>1045674</td>\n",
       "      <td>1045674</td>\n",
       "    </tr>\n",
       "    <tr>\n",
       "      <th>unique</th>\n",
       "      <td>175</td>\n",
       "      <td>36000</td>\n",
       "      <td>56</td>\n",
       "      <td>6</td>\n",
       "      <td>11</td>\n",
       "      <td>105</td>\n",
       "      <td>7</td>\n",
       "    </tr>\n",
       "    <tr>\n",
       "      <th>top</th>\n",
       "      <td>10/2/2011</td>\n",
       "      <td>27:19.7</td>\n",
       "      <td>MA004</td>\n",
       "      <td>Kitchen</td>\n",
       "      <td>Kitchen</td>\n",
       "      <td>OFF</td>\n",
       "      <td>Control4-MotionArea</td>\n",
       "    </tr>\n",
       "    <tr>\n",
       "      <th>freq</th>\n",
       "      <td>12919</td>\n",
       "      <td>56</td>\n",
       "      <td>185367</td>\n",
       "      <td>370203</td>\n",
       "      <td>370203</td>\n",
       "      <td>374067</td>\n",
       "      <td>510053</td>\n",
       "    </tr>\n",
       "  </tbody>\n",
       "</table>\n",
       "</div>"
      ],
      "text/plain": [
       "             Date     Time   Sensor Room Name Room Description Device Status  \\\n",
       "count     1045674  1045674  1045674   1045674          1045674       1045674   \n",
       "unique        175    36000       56         6               11           105   \n",
       "top     10/2/2011  27:19.7    MA004   Kitchen          Kitchen           OFF   \n",
       "freq        12919       56   185367    370203           370203        374067   \n",
       "\n",
       "             Sensor-Message  \n",
       "count               1045674  \n",
       "unique                    7  \n",
       "top     Control4-MotionArea  \n",
       "freq                 510053  "
      ]
     },
     "execution_count": 23,
     "metadata": {},
     "output_type": "execute_result"
    }
   ],
   "source": [
    "# Get the summary statistics of the dataset\n",
    "df.describe()"
   ]
  },
  {
   "cell_type": "code",
   "execution_count": 24,
   "id": "46d1bd19-b10b-4972-9956-ea670bf21ada",
   "metadata": {},
   "outputs": [
    {
     "name": "stdout",
     "output_type": "stream",
     "text": [
      "Requirement already satisfied: pymongo in c:\\users\\user\\appdata\\local\\anaconda3\\lib\\site-packages (4.4.0)\n",
      "Requirement already satisfied: dnspython<3.0.0,>=1.16.0 in c:\\users\\user\\appdata\\local\\anaconda3\\lib\\site-packages (from pymongo) (2.3.0)\n",
      "Note: you may need to restart the kernel to use updated packages.\n"
     ]
    }
   ],
   "source": [
    "pip install pymongo\n"
   ]
  },
  {
   "cell_type": "markdown",
   "id": "bdad23a7-4cc2-4162-9337-da790f63bf23",
   "metadata": {},
   "source": [
    "# Display the List of rooms"
   ]
  },
  {
   "cell_type": "code",
   "execution_count": 25,
   "id": "1e00f7f2-eed1-4234-adaa-700cc07c4438",
   "metadata": {},
   "outputs": [
    {
     "name": "stdout",
     "output_type": "stream",
     "text": [
      "Bathroom\n",
      "Bedroom\n",
      "Kitchen\n",
      "LivingRoom\n",
      "OutsideDoor\n"
     ]
    }
   ],
   "source": [
    "import pymongo\n",
    "\n",
    "# Connect to MongoDB\n",
    "client = pymongo.MongoClient('mongodb://localhost:27017')\n",
    "database = client['smart_home']\n",
    "collection = database['smart_home_raw_data']\n",
    "\n",
    "# Fetch distinct room names from the collection\n",
    "room_names = collection.distinct(\"Room Name\")\n",
    "\n",
    "# Display the room names\n",
    "for room_name in room_names:\n",
    "    print(room_name)\n",
    "\n",
    "# Close the MongoDB connection\n",
    "client.close()\n"
   ]
  },
  {
   "cell_type": "code",
   "execution_count": 26,
   "id": "be110dd7-3927-4d84-a966-29a0bbd0455c",
   "metadata": {},
   "outputs": [],
   "source": [
    "# import pymongo\n",
    "\n",
    "# # Connect to MongoDB\n",
    "# client = pymongo.MongoClient('mongodb://localhost:27017')\n",
    "# database = client['smart_home']\n",
    "# collection = database['smart_home_raw_data']\n",
    "\n",
    "# # Fetch documents from the collection\n",
    "# query = {\"Room Name\": \"Bathroom\"}\n",
    "# documents = collection.find(query)\n",
    "\n",
    "# # Display document values\n",
    "# for document in documents:\n",
    "#     print(document)\n",
    "\n",
    "# # Close the MongoDB connection\n",
    "# client.close()\n"
   ]
  },
  {
   "cell_type": "markdown",
   "id": "52e95dab-7466-4d5f-a95f-e4e48b00c3a9",
   "metadata": {},
   "source": [
    "# Count of all the rooms and devices"
   ]
  },
  {
   "cell_type": "code",
   "execution_count": 27,
   "id": "6a2da10a-8ac3-409f-953e-868d58971ac2",
   "metadata": {},
   "outputs": [
    {
     "name": "stdout",
     "output_type": "stream",
     "text": [
      "Room Name: LivingRoom, Count: 212971\n",
      "Room Name: Bathroom, Count: 43470\n",
      "Room Name: Bedroom, Count: 118226\n",
      "Room Name: Kitchen, Count: 372225\n",
      "Room Name: OutsideDoor, Count: 15882\n"
     ]
    }
   ],
   "source": [
    "import pymongo\n",
    "\n",
    "# Connect to MongoDB\n",
    "client = pymongo.MongoClient('mongodb://localhost:27017')\n",
    "database = client['smart_home']\n",
    "collection = database['smart_home_raw_data']\n",
    "\n",
    "# Perform aggregation to get room count\n",
    "pipeline = [\n",
    "    {\n",
    "        '$group': {\n",
    "            '_id': '$Room Name',\n",
    "            'count': {'$sum': 1}\n",
    "        }\n",
    "    }\n",
    "]\n",
    "result = collection.aggregate(pipeline)\n",
    "\n",
    "# Display the room count\n",
    "for entry in result:\n",
    "    room_name = entry['_id']\n",
    "    count = entry['count']\n",
    "    print(f\"Room Name: {room_name}, Count: {count}\")\n",
    "\n",
    "# Close the MongoDB connection\n",
    "client.close()\n"
   ]
  },
  {
   "cell_type": "markdown",
   "id": "23e1f1f9-1c8a-4309-a3c1-5d397ca12b94",
   "metadata": {},
   "source": [
    "# Device Configuration"
   ]
  },
  {
   "cell_type": "code",
   "execution_count": 28,
   "id": "c0282c79-e336-4978-bb6f-9c1942e52236",
   "metadata": {},
   "outputs": [
    {
     "name": "stdout",
     "output_type": "stream",
     "text": [
      "Room Name: Bedroom, Sensors: ['MA011', 'L006', 'MA012', 'MA010']\n",
      "Room Name: OutsideDoor, Sensors: ['M001', 'D002', 'L001']\n",
      "Room Name: Bathroom, Sensors: ['D003', 'L007', 'L008', 'MA013']\n",
      "Room Name: LivingRoom, Sensors: ['L005', 'MA009', 'MA006', 'MA008', 'M005', 'MA007']\n",
      "Room Name: Kitchen, Sensors: ['M002', 'L002', 'L004', 'L003', 'MA004', 'M003']\n"
     ]
    }
   ],
   "source": [
    "import pymongo\n",
    "\n",
    "# Connect to MongoDB\n",
    "client = pymongo.MongoClient('mongodb://localhost:27017')\n",
    "database = client['smart_home']\n",
    "collection = database['smart_home_raw_data']\n",
    "\n",
    "# Perform aggregation to get sensors linked to each room\n",
    "pipeline = [\n",
    "    {\n",
    "        '$group': {\n",
    "            '_id': '$Room Name',\n",
    "            'sensors': {'$addToSet': '$Sensor'}\n",
    "        }\n",
    "    }\n",
    "]\n",
    "result = collection.aggregate(pipeline)\n",
    "\n",
    "# Display the sensors linked to each room\n",
    "for entry in result:\n",
    "    room_name = entry['_id']\n",
    "    sensors = entry['sensors']\n",
    "    print(f\"Room Name: {room_name}, Sensors: {sensors}\")\n",
    "\n",
    "# Close the MongoDB connection\n",
    "client.close()\n"
   ]
  },
  {
   "cell_type": "code",
   "execution_count": 29,
   "id": "6f91301d-6270-4f99-942e-280228b1c0db",
   "metadata": {},
   "outputs": [
    {
     "name": "stdout",
     "output_type": "stream",
     "text": [
      "Bathroom\n",
      "Bedroom\n",
      "Kitchen\n",
      "LivingRoom\n",
      "OutsideDoor\n"
     ]
    }
   ],
   "source": [
    "import pymongo\n",
    "\n",
    "# Connect to MongoDB\n",
    "client = pymongo.MongoClient('mongodb://localhost:27017')\n",
    "database = client['smart_home']\n",
    "collection = database['smart_home_raw_data']\n",
    "\n",
    "# Remove documents where Room Name is \"Ignore\"\n",
    "collection.delete_many({\"Room Name\": \"Ignore\"})\n",
    "\n",
    "# Get distinct room names from the collection\n",
    "available_rooms = collection.distinct(\"Room Name\")\n",
    "\n",
    "# Display the available rooms\n",
    "for room in available_rooms:\n",
    "    print(room)\n",
    "\n",
    "# Close the MongoDB connection\n",
    "client.close()\n"
   ]
  },
  {
   "cell_type": "code",
   "execution_count": 30,
   "id": "004934af-e253-426d-b59d-3cd975c785f6",
   "metadata": {},
   "outputs": [],
   "source": [
    "# import pymongo\n",
    "\n",
    "# # Connect to MongoDB\n",
    "# client = pymongo.MongoClient('mongodb://localhost:27017')\n",
    "# database = client['smart_home']\n",
    "# collection = database['smart_home_raw_data']\n",
    "\n",
    "# # Perform aggregation\n",
    "# pipeline = [\n",
    "#     {\"$match\": {\"Room Name\": {\"$ne\": \"Ignore\"}}},\n",
    "#     {\"$group\": {\"_id\": \"$Room Name\", \"Sensors\": {\"$push\": \"$Sensor\"}}},\n",
    "#     {\"$limit\": 10}  # Limit the output to the first 10 rooms\n",
    "# ]\n",
    "# result = list(collection.aggregate(pipeline))\n",
    "\n",
    "# # Display the sensors linked to each room\n",
    "# for item in result:\n",
    "#     room = item[\"_id\"]\n",
    "#     sensors = item[\"Sensors\"]\n",
    "#     print(f\"Room: {room}\")\n",
    "#     print(f\"Sensors: {sensors}\")\n",
    "#     print()\n",
    "\n",
    "# # Close the MongoDB connection\n",
    "# client.close()\n"
   ]
  },
  {
   "cell_type": "code",
   "execution_count": 37,
   "id": "5e378494-e4a2-412f-b951-7c60758197f6",
   "metadata": {},
   "outputs": [
    {
     "name": "stdout",
     "output_type": "stream",
     "text": [
      "Report generated successfully.\n"
     ]
    }
   ],
   "source": [
    "# import pymongo\n",
    "# import pandas as pd\n",
    "\n",
    "# # Connect to MongoDB\n",
    "# client = pymongo.MongoClient('mongodb://localhost:27017')\n",
    "# database = client['smart_home']\n",
    "# collection = database['smart_home_raw_data']\n",
    "\n",
    "# # Perform aggregation\n",
    "# pipeline = [\n",
    "#     {\"$match\": {\"Room Name\": {\"$ne\": \"Ignore\"}}},\n",
    "#     {\"$group\": {\"_id\": {\"Room\": \"$Room Name\", \"Date\": \"$Date\"}, \"Sensors\": {\"$push\": \"$Sensor\"}}},\n",
    "#     {\"$limit\": 10}  # Limit the output to the first 10 rooms\n",
    "# ]\n",
    "# result = list(collection.aggregate(pipeline))\n",
    "\n",
    "# # Fetch all required data from the database\n",
    "# room_names = [item[\"_id\"][\"Room\"] for item in result]\n",
    "# dates = [item[\"_id\"][\"Date\"] for item in result]\n",
    "# all_sensors = [sensor for item in result for sensor in item[\"Sensors\"]]\n",
    "\n",
    "# device_status_map = {}\n",
    "# for room in room_names:\n",
    "#     for date in dates:\n",
    "#         query = {\"Room Name\": room, \"Date\": date}\n",
    "#         cursor = collection.find(query, {\"Sensor\": 1, \"Device Status\": 1})\n",
    "#         for doc in cursor:\n",
    "#             sensor_name = doc[\"Sensor\"]\n",
    "#             device_status = doc.get(\"Device Status\", \"Unknown\")\n",
    "#             device_status_map[(room, date, sensor_name)] = device_status\n",
    "\n",
    "# # Prepare report data\n",
    "# report_data = []\n",
    "# for item in result:\n",
    "#     room = item[\"_id\"][\"Room\"]\n",
    "#     date = item[\"_id\"][\"Date\"]\n",
    "#     sensors = item[\"Sensors\"]\n",
    "\n",
    "#     for sensor in sensors:\n",
    "#         device_status = device_status_map.get((room, date, sensor), \"Unknown\")\n",
    "#         report_data.append({\"Date\": date, \"Time\": \"\", \"Sensor\": sensor, \"Room Name\": room, \"Room Description\": \"\", \"Device Status\": device_status, \"Sensor-Message\": \"\"})\n",
    "\n",
    "# # Create a DataFrame from the report data\n",
    "# df = pd.DataFrame(report_data)\n",
    "\n",
    "# # Generate Excel report\n",
    "# report_file = \"sensor_report.xlsx\"\n",
    "# df.to_excel(report_file, index=False)\n",
    "\n",
    "# # Close the MongoDB connection\n",
    "# client.close()\n",
    "\n",
    "# print(\"Report generated successfully.\")\n"
   ]
  },
  {
   "cell_type": "code",
   "execution_count": 41,
   "id": "c74da926-6437-477d-82dc-45dc9e3ca2d8",
   "metadata": {},
   "outputs": [
    {
     "name": "stdout",
     "output_type": "stream",
     "text": [
      "Device Status: ON, Count: 375460\n",
      "Device Status: OFF, Count: 375481\n",
      "Device Status: OPEN, Count: 1624\n",
      "Device Status: CLOSE, Count: 1620\n"
     ]
    }
   ],
   "source": [
    "# Connect to MongoDB\n",
    "client = pymongo.MongoClient('mongodb://localhost:27017')\n",
    "database = client['smart_home']\n",
    "collection = database['smart_home_raw_data']\n",
    "\n",
    "# Perform aggregation\n",
    "pipeline = [\n",
    "    {\"$group\": {\"_id\": \"$Device Status\", \"count\": {\"$sum\": 1}}},\n",
    "    {\"$match\": {\"_id\": {\"$in\": [\"CLOSE\", \"OFF\", \"ON\", \"OPEN\"]}}}\n",
    "]\n",
    "result = list(collection.aggregate(pipeline))\n",
    "\n",
    "# Display the count of each device status\n",
    "for item in result:\n",
    "    status = item[\"_id\"]\n",
    "    count = item[\"count\"]\n",
    "    print(f\"Device Status: {status}, Count: {count}\")\n",
    "\n",
    "# Close the MongoDB connection\n",
    "client.close()\n",
    "\n"
   ]
  },
  {
   "cell_type": "code",
   "execution_count": 5,
   "id": "94e6ffeb-c8fe-477d-8319-ad0b0592a89e",
   "metadata": {},
   "outputs": [
    {
     "name": "stdout",
     "output_type": "stream",
     "text": [
      "Report generated successfully.\n"
     ]
    }
   ],
   "source": [
    "import pymongo\n",
    "import pandas as pd\n",
    "\n",
    "# Connect to MongoDB\n",
    "client = pymongo.MongoClient('mongodb://localhost:27017')\n",
    "database = client['smart_home']\n",
    "collection = database['smart_home_raw_data']\n",
    "\n",
    "# Perform aggregation\n",
    "pipeline = [\n",
    "    {\"$match\": {\"Room Name\": {\"$ne\": \"Ignore\"}}},\n",
    "    {\"$group\": {\"_id\": {\"Room\": \"$Room Name\", \"Date\": \"$Date\"}, \"Sensors\": {\"$push\": \"$Sensor\"}}},\n",
    "    {\"$limit\": 10}  # Limit the output to the first 10 rooms\n",
    "]\n",
    "result = list(collection.aggregate(pipeline))\n",
    "\n",
    "# Fetch all required data from the database\n",
    "room_names = [item[\"_id\"][\"Room\"] for item in result]\n",
    "dates = [item[\"_id\"][\"Date\"] for item in result]\n",
    "all_sensors = [sensor for item in result for sensor in item[\"Sensors\"]]\n",
    "\n",
    "device_status_map = {}\n",
    "for room in room_names:\n",
    "    for date in dates:\n",
    "        query = {\"Room Name\": room, \"Date\": date}\n",
    "        cursor = collection.find(query, {\"Sensor\": 1, \"Device Status\": 1, \"Time\": 1, \"Room Description\": 1, \"Sensor-Message\": 1})\n",
    "        for doc in cursor:\n",
    "            sensor_name = doc[\"Sensor\"]\n",
    "            device_status = doc.get(\"Device Status\", \"Unknown\")\n",
    "            if device_status in [\"CLOSE\", \"OFF\", \"ON\", \"OPEN\"]:\n",
    "                time = doc.get(\"Time\", \"\")\n",
    "                room_description = doc.get(\"Room Description\", \"\")\n",
    "                sensor_message = doc.get(\"Sensor-Message\", \"\")\n",
    "                device_status_map[(room, date, sensor_name)] = {\n",
    "                    \"Device Status\": device_status,\n",
    "                    \"Time\": time,\n",
    "                    \"Room Description\": room_description,\n",
    "                    \"Sensor-Message\": sensor_message\n",
    "                }\n",
    "\n",
    "# Prepare report data\n",
    "report_data = []\n",
    "for item in result:\n",
    "    room = item[\"_id\"][\"Room\"]\n",
    "    date = item[\"_id\"][\"Date\"]\n",
    "    sensors = item[\"Sensors\"]\n",
    "\n",
    "    for sensor in sensors:\n",
    "        sensor_data = device_status_map.get((room, date, sensor), {})\n",
    "        device_status = sensor_data.get(\"Device Status\", \"Unknown\")\n",
    "        time = sensor_data.get(\"Time\", \"\")\n",
    "        room_description = sensor_data.get(\"Room Description\", \"\")\n",
    "        sensor_message = sensor_data.get(\"Sensor-Message\", \"\")\n",
    "        report_data.append({\"Date\": date, \"Time\": time, \"Sensor\": sensor, \"Room Name\": room, \"Room Description\": room_description, \"Device Status\": device_status, \"Sensor-Message\": sensor_message})\n",
    "\n",
    "# Create a DataFrame from the report data\n",
    "df = pd.DataFrame(report_data)\n",
    "\n",
    "# Generate Excel report\n",
    "report_file = \"sensor_report.xlsx\"\n",
    "df.to_excel(report_file, index=False)\n",
    "\n",
    "# Close the MongoDB connection\n",
    "client.close()\n",
    "\n",
    "print(\"Report generated successfully.\")\n"
   ]
  },
  {
   "cell_type": "code",
   "execution_count": null,
   "id": "7ee29fc1-ca0f-4c57-be5a-0089bf0d198f",
   "metadata": {},
   "outputs": [],
   "source": []
  }
 ],
 "metadata": {
  "kernelspec": {
   "display_name": "Python 3 (ipykernel)",
   "language": "python",
   "name": "python3"
  },
  "language_info": {
   "codemirror_mode": {
    "name": "ipython",
    "version": 3
   },
   "file_extension": ".py",
   "mimetype": "text/x-python",
   "name": "python",
   "nbconvert_exporter": "python",
   "pygments_lexer": "ipython3",
   "version": "3.10.9"
  }
 },
 "nbformat": 4,
 "nbformat_minor": 5
}
