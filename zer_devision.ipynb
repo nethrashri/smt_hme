{
 "cells": [
  {
   "cell_type": "code",
   "execution_count": null,
   "id": "7a6d2373-5a07-44d1-93c3-3b41f5e407a5",
   "metadata": {},
   "outputs": [],
   "source": [
    "from sklearn.metrics import accuracy_score, precision_score, recall_score, f1_score, cohen_kappa_score, matthews_corrcoef\n",
    "\n",
    "def model_score_df(model_dict):\n",
    "    model_name, ac_score_list, p_score_list, r_score_list, f1_score_list, kappa_score, MCC = [], [], [],[], [], [], []\n",
    "    \n",
    "    for k, v in model_dict.items():\n",
    "        model_name.append(k)\n",
    "        v.fit(X_train, y_train)\n",
    "        y_pred = v.predict(X_test)\n",
    "        probas = v.predict_proba(X_test)\n",
    "        classes = v.classes_\n",
    "        for class_name, proba in zip(classes, probas):\n",
    "            print(f\"{class_name}: {proba}\")\n",
    "        \n",
    "        ac_score_list.append(accuracy_score(y_test, y_pred))\n",
    "        p_score_list.append(precision_score(y_test, y_pred, average='macro', zero_division=1))\n",
    "        r_score_list.append(recall_score(y_test, y_pred, average='macro', zero_division=1))\n",
    "        f1_score_list.append(f1_score(y_test, y_pred, average='macro', zero_division=1))\n",
    "        kappa_score.append(cohen_kappa_score(y_test, y_pred))\n",
    "        MCC.append(matthews_corrcoef(y_test, y_pred))\n",
    "        \n",
    "    model_comparison_df = pd.DataFrame([model_name, ac_score_list, p_score_list, r_score_list, f1_score_list, kappa_score, MCC]).T\n",
    "    model_comparison_df.columns = ['model_name', 'accuracy_score', 'precision_score', 'recall_score', 'f1_score', 'kappa_score', 'MCC']\n",
    "    model_comparison_df = model_comparison_df.sort_values(by='accuracy_score', ascending=False)\n",
    "    model_comparison_df['Model_run_TimeStamp'] = dt_string\n",
    "    \n",
    "    return model_comparison_df\n"
   ]
  }
 ],
 "metadata": {
  "kernelspec": {
   "display_name": "Python 3 (ipykernel)",
   "language": "python",
   "name": "python3"
  },
  "language_info": {
   "codemirror_mode": {
    "name": "ipython",
    "version": 3
   },
   "file_extension": ".py",
   "mimetype": "text/x-python",
   "name": "python",
   "nbconvert_exporter": "python",
   "pygments_lexer": "ipython3",
   "version": "3.10.9"
  }
 },
 "nbformat": 4,
 "nbformat_minor": 5
}
