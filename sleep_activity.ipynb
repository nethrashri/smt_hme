{
 "cells": [
  {
   "cell_type": "code",
   "execution_count": null,
   "id": "4581d0c3-ddfa-499b-8b40-6b11c0e7f55c",
   "metadata": {},
   "outputs": [],
   "source": [
    "[0.00072877 0.00183744 0.02912764 0.08639831 0.0652484  0.01721144\n",
    " 0.02898809 0.03184891 0.00127923 0.00705514 0.0029461  0.00172114\n",
    " 0.00345004 0.0576118  0.00679154 0.01640514 0.00369038 0.00541928\n",
    " 0.35471841 0.01981641 0.00398499 0.0058922  0.00459747 0.04953328\n",
    " 0.01034237 0.00371364 0.00455095 0.02353005 0.02589468 0.01552906\n",
    " 0.05651089 0.00225609 0.01193947 0.01275352 0.02667773]"
   ]
  },
  {
   "cell_type": "code",
   "execution_count": 2,
   "id": "da3d634e-a169-4eaf-a271-80a225abf7e1",
   "metadata": {},
   "outputs": [],
   "source": [
    "import warnings\n",
    "import numpy as np\n",
    "import pandas as pd\n",
    "from pyod.models.mad import MAD\n",
    "from pyod.models.knn import KNN\n",
    "from pyod.models.lof import LOF\n",
    "import matplotlib.pyplot as plt\n",
    "from sklearn.ensemble import IsolationForest\n",
    "\n",
    "pd.set_option('display.max_rows', 250)\n",
    "warnings.filterwarnings('ignore')"
   ]
  },
  {
   "cell_type": "code",
   "execution_count": 7,
   "id": "c1e5ba84-6211-4e1d-897b-7a1c44e99748",
   "metadata": {},
   "outputs": [
    {
     "data": {
      "text/html": [
       "<div>\n",
       "<style scoped>\n",
       "    .dataframe tbody tr th:only-of-type {\n",
       "        vertical-align: middle;\n",
       "    }\n",
       "\n",
       "    .dataframe tbody tr th {\n",
       "        vertical-align: top;\n",
       "    }\n",
       "\n",
       "    .dataframe thead th {\n",
       "        text-align: right;\n",
       "    }\n",
       "</style>\n",
       "<table border=\"1\" class=\"dataframe\">\n",
       "  <thead>\n",
       "    <tr style=\"text-align: right;\">\n",
       "      <th></th>\n",
       "      <th>sleep</th>\n",
       "    </tr>\n",
       "  </thead>\n",
       "  <tbody>\n",
       "    <tr>\n",
       "      <th>0</th>\n",
       "      <td>0.000729</td>\n",
       "    </tr>\n",
       "    <tr>\n",
       "      <th>1</th>\n",
       "      <td>0.001837</td>\n",
       "    </tr>\n",
       "    <tr>\n",
       "      <th>2</th>\n",
       "      <td>0.029128</td>\n",
       "    </tr>\n",
       "    <tr>\n",
       "      <th>3</th>\n",
       "      <td>0.086398</td>\n",
       "    </tr>\n",
       "    <tr>\n",
       "      <th>4</th>\n",
       "      <td>0.065248</td>\n",
       "    </tr>\n",
       "  </tbody>\n",
       "</table>\n",
       "</div>"
      ],
      "text/plain": [
       "      sleep\n",
       "0  0.000729\n",
       "1  0.001837\n",
       "2  0.029128\n",
       "3  0.086398\n",
       "4  0.065248"
      ]
     },
     "execution_count": 7,
     "metadata": {},
     "output_type": "execute_result"
    }
   ],
   "source": [
    "data_values = [0.00072877,\n",
    "                0.00183744,\n",
    "                0.02912764,\n",
    "                0.08639831,\n",
    "                0.0652484,\n",
    "                0.01721144,\n",
    "                0.02898809,\n",
    "                0.03184891,\n",
    "                0.00127923,\n",
    "                0.00705514,\n",
    "                0.0029461,\n",
    "                0.00172114,\n",
    "                0.00345004,\n",
    "                0.0576118,\n",
    "                0.00679154,\n",
    "                0.01640514,\n",
    "                0.00369038,\n",
    "                0.00541928,\n",
    "                0.35471841,\n",
    "                0.0198164,\n",
    "                1,\n",
    "                0.00398499,\n",
    "                0.0058922,\n",
    "                0.00459747,\n",
    "                0.04953328,\n",
    "                0.01034237,\n",
    "                0.00371364,\n",
    "                0.00455095,\n",
    "                0.02353005,\n",
    "                0.02589468,\n",
    "                0.01552906,\n",
    "                0.05651089,\n",
    "                0.00225609,\n",
    "                0.01193947,\n",
    "                0.01275352,\n",
    "                0.02667773]\n",
    "       \n",
    "data = pd.DataFrame(data_values, columns=['sleep'])\n",
    "data.head()"
   ]
  },
  {
   "cell_type": "code",
   "execution_count": null,
   "id": "3ae0f4cd-152b-41ed-ada6-e903dd470a0a",
   "metadata": {},
   "outputs": [],
   "source": []
  }
 ],
 "metadata": {
  "kernelspec": {
   "display_name": "Python 3 (ipykernel)",
   "language": "python",
   "name": "python3"
  },
  "language_info": {
   "codemirror_mode": {
    "name": "ipython",
    "version": 3
   },
   "file_extension": ".py",
   "mimetype": "text/x-python",
   "name": "python",
   "nbconvert_exporter": "python",
   "pygments_lexer": "ipython3",
   "version": "3.10.9"
  }
 },
 "nbformat": 4,
 "nbformat_minor": 5
}
